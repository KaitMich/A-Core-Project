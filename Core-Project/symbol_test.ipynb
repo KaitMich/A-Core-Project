{
 "cells": [
  {
   "cell_type": "code",
   "execution_count": 2,
   "id": "c355d239-783a-4c59-9ef0-a1c2b95d109e",
   "metadata": {},
   "outputs": [
    {
     "name": "stdout",
     "output_type": "stream",
     "text": [
      "Loaded 3 symbols.\n"
     ]
    }
   ],
   "source": [
    "import json\n",
    "from pathlib import Path\n",
    "\n",
    "# Load the symbol data\n",
    "with open(\"seed_symbols.json\", \"r\", encoding=\"utf-8\") as f:\n",
    "    symbols = json.load(f)\n",
    "\n",
    "print(f\"Loaded {len(symbols)} symbols.\")\n"
   ]
  },
  {
   "cell_type": "code",
   "execution_count": 3,
   "id": "9c2abd00-ad1a-4ec5-b1a7-ed764c90226e",
   "metadata": {},
   "outputs": [
    {
     "name": "stdout",
     "output_type": "stream",
     "text": [
      "🔹 Circle (○)\n",
      "  Meanings: wholeness, eternity, cycle\n",
      "  Emotions: peace, completion\n",
      "  Archetypes: feminine, cosmic\n",
      "  Linked Symbols: ∞, 0, O\n",
      "  Resonance Weight: 0.85\n"
     ]
    }
   ],
   "source": [
    "def describe_symbol(token):\n",
    "    symbol = symbols.get(token)\n",
    "    if not symbol:\n",
    "        print(f\"Symbol '{token}' not found.\")\n",
    "        return\n",
    "\n",
    "    print(f\"🔹 {symbol['name']} ({token})\")\n",
    "    print(f\"  Meanings: {', '.join(symbol['core_meanings'])}\")\n",
    "    print(f\"  Emotions: {', '.join(symbol['emotions'])}\")\n",
    "    print(f\"  Archetypes: {', '.join(symbol['archetypes'])}\")\n",
    "    print(f\"  Linked Symbols: {', '.join(symbol['linked_symbols'])}\")\n",
    "    print(f\"  Resonance Weight: {symbol['resonance_weight']}\")\n",
    "\n",
    "# Try describing the Circle symbol\n",
    "describe_symbol(\"○\")\n"
   ]
  },
  {
   "cell_type": "code",
   "execution_count": 4,
   "id": "f7da699e-61d2-4d81-a535-792d6086863f",
   "metadata": {},
   "outputs": [
    {
     "name": "stdout",
     "output_type": "stream",
     "text": [
      "Found 1 matches for 'cycle':\n",
      "  Circle (○)\n"
     ]
    }
   ],
   "source": [
    "def search_by_keyword(keyword):\n",
    "    results = []\n",
    "    for token, data in symbols.items():\n",
    "        fields = data[\"core_meanings\"] + data[\"emotions\"] + data[\"archetypes\"]\n",
    "        if keyword.lower() in map(str.lower, fields):\n",
    "            results.append((token, data[\"name\"]))\n",
    "\n",
    "    if results:\n",
    "        print(f\"Found {len(results)} matches for '{keyword}':\")\n",
    "        for token, name in results:\n",
    "            print(f\"  {name} ({token})\")\n",
    "    else:\n",
    "        print(f\"No matches found for '{keyword}'.\")\n",
    "\n",
    "# Try searching by a concept\n",
    "search_by_keyword(\"cycle\")\n"
   ]
  },
  {
   "cell_type": "code",
   "execution_count": 5,
   "id": "a53d75ee-22d2-473e-b038-eac8394cd64e",
   "metadata": {},
   "outputs": [
    {
     "name": "stdout",
     "output_type": "stream",
     "text": [
      "🧠 Saved 🔥 with emotion='fear' and context='I keep returning to this'\n"
     ]
    }
   ],
   "source": [
    "import datetime\n",
    "\n",
    "def save_symbol_to_memory(token, context=\"\", emotion=\"\"):\n",
    "    memory_path = Path(\"user_memory.json\")\n",
    "\n",
    "    try:\n",
    "        with open(memory_path, \"r\", encoding=\"utf-8\") as f:\n",
    "            memory = json.load(f)\n",
    "    except FileNotFoundError:\n",
    "        memory = {}\n",
    "\n",
    "    timestamp = datetime.datetime.now().isoformat()\n",
    "\n",
    "    memory_entry = {\n",
    "        \"symbol\": token,\n",
    "        \"context\": context,\n",
    "        \"emotion\": emotion,\n",
    "        \"timestamp\": timestamp\n",
    "    }\n",
    "\n",
    "    memory.setdefault(\"entries\", []).append(memory_entry)\n",
    "\n",
    "    with open(memory_path, \"w\", encoding=\"utf-8\") as f:\n",
    "        json.dump(memory, f, indent=2)\n",
    "\n",
    "    print(f\"🧠 Saved {token} with emotion='{emotion}' and context='{context}'\")\n",
    "\n",
    "# Try saving one\n",
    "save_symbol_to_memory(\"🔥\", emotion=\"fear\", context=\"I keep returning to this\")\n"
   ]
  },
  {
   "cell_type": "code",
   "execution_count": 6,
   "id": "1ff39237-e41f-4ab0-a983-d2ba42d87aad",
   "metadata": {},
   "outputs": [
    {
     "name": "stdout",
     "output_type": "stream",
     "text": [
      "🧠 Memory contains 1 entries:\n",
      "\n",
      "🔸 🔥 — fear — I keep returning to this (2025-05-02T14:23:23.281735)\n"
     ]
    }
   ],
   "source": [
    "def show_memory():\n",
    "    memory_path = Path(\"user_memory.json\")\n",
    "    \n",
    "    try:\n",
    "        with open(memory_path, \"r\", encoding=\"utf-8\") as f:\n",
    "            memory = json.load(f)\n",
    "    except FileNotFoundError:\n",
    "        print(\"❌ No memory found yet.\")\n",
    "        return\n",
    "\n",
    "    entries = memory.get(\"entries\", [])\n",
    "    if not entries:\n",
    "        print(\"🫥 Memory is empty.\")\n",
    "        return\n",
    "\n",
    "    print(f\"🧠 Memory contains {len(entries)} entries:\\n\")\n",
    "    for entry in entries:\n",
    "        print(f\"🔸 {entry['symbol']} — {entry['emotion']} — {entry['context']} ({entry['timestamp']})\")\n",
    "\n",
    "# Try it now\n",
    "show_memory()\n"
   ]
  },
  {
   "cell_type": "code",
   "execution_count": 9,
   "id": "92a32ad9-0a89-4e0c-af90-b21cedc35cbb",
   "metadata": {},
   "outputs": [
    {
     "name": "stdout",
     "output_type": "stream",
     "text": [
      "🔍 Found 1 memory matches for 'fear':\n",
      "\n",
      "🔸 🔥 — fear — I keep returning to this (2025-05-02T14:23:23.281735)\n"
     ]
    }
   ],
   "source": [
    "def search_memory(query):\n",
    "    memory_path = Path(\"user_memory.json\")\n",
    "\n",
    "    try:\n",
    "        with open(memory_path, \"r\", encoding=\"utf-8\") as f:\n",
    "            memory = json.load(f)\n",
    "    except FileNotFoundError:\n",
    "        print(\"❌ No memory file found.\")\n",
    "        return\n",
    "\n",
    "    entries = memory.get(\"entries\", [])\n",
    "    matches = []\n",
    "\n",
    "    for entry in entries:\n",
    "        if (query in entry[\"symbol\"]) or (query.lower() in entry[\"emotion\"].lower()) or (query.lower() in entry[\"context\"].lower()):\n",
    "            matches.append(entry)\n",
    "\n",
    "    if matches:\n",
    "        print(f\"🔍 Found {len(matches)} memory matches for '{query}':\\n\")\n",
    "        for entry in matches:\n",
    "            print(f\"🔸 {entry['symbol']} — {entry['emotion']} — {entry['context']} ({entry['timestamp']})\")\n",
    "    else:\n",
    "        print(f\"🙅 No matches found for '{query}'.\")\n",
    "\n",
    "# Try it\n",
    "search_memory(\"fear\")\n"
   ]
  },
  {
   "cell_type": "code",
   "execution_count": 10,
   "id": "3b7e36bd-96d7-42f9-8ece-fffdbb93d36c",
   "metadata": {},
   "outputs": [
    {
     "name": "stdout",
     "output_type": "stream",
     "text": [
      "🔍 Found 1 memory matches for '🔥':\n",
      "\n",
      "🔸 🔥 — fear — I keep returning to this (2025-05-02T14:23:23.281735)\n",
      "🙅 No matches found for 'peace'.\n",
      "🙅 No matches found for 'bridge'.\n"
     ]
    }
   ],
   "source": [
    "search_memory(\"🔥\")\n",
    "search_memory(\"peace\")\n",
    "search_memory(\"bridge\")"
   ]
  },
  {
   "cell_type": "code",
   "execution_count": 11,
   "id": "9cf09419-93d9-41d7-934f-2257567e8eb6",
   "metadata": {},
   "outputs": [],
   "source": [
    "from collections import Counter\n",
    "\n",
    "def symbol_frequency_report():\n",
    "    memory_path = Path(\"user_memory.json\")\n",
    "    \n",
    "    try:\n",
    "        with open(memory_path, \"r\", encoding=\"utf-8\") as f:\n",
    "            memory = json.load(f)\n",
    "    except FileNotFoundError:\n",
    "        print(\"❌ No memory found.\")\n",
    "        return\n",
    "\n",
    "    entries = memory.get(\"entries\", [])\n",
    "    if not entries:\n",
    "        print(\"🫥 Memory is empty.\")\n",
    "        return\n",
    "\n",
    "    symbol_counts = Counter(entry[\"symbol\"] for entry in entries)\n",
    "    \n",
    "    print(\"🔁 Symbol Frequency Report:\\n\")\n",
    "    for symbol, count in symbol_counts.most_common():\n",
    "        print(f\"{symbol} — {count} occurrence(s)\")\n",
    "\n",
    "    # Optional: detect symbolic loop\n",
    "    for symbol, count in symbol_counts.items():\n",
    "        if count >= 3:\n",
    "            print(f\"\\n⚠️ Symbolic loop detected for '{symbol}' — {count} uses. ΔΦ–0 attractor candidate.\")\n"
   ]
  },
  {
   "cell_type": "code",
   "execution_count": 12,
   "id": "36c00338-26bf-4ab1-975e-a92fdfe5404f",
   "metadata": {},
   "outputs": [
    {
     "name": "stdout",
     "output_type": "stream",
     "text": [
      "🔁 Symbol Frequency Report:\n",
      "\n",
      "🔥 — 1 occurrence(s)\n"
     ]
    }
   ],
   "source": [
    "symbol_frequency_report()\n"
   ]
  },
  {
   "cell_type": "code",
   "execution_count": 13,
   "id": "8c34c605-8b38-4b37-a3df-718d1bd08d09",
   "metadata": {},
   "outputs": [
    {
     "name": "stdout",
     "output_type": "stream",
     "text": [
      "🌈 Emotion Clusters:\n",
      "\n",
      "💬 Fear — 1 entries\n",
      "   Symbols: 🔥\n",
      "\n"
     ]
    }
   ],
   "source": [
    "from collections import defaultdict\n",
    "\n",
    "def emotion_cluster_report():\n",
    "    memory_path = Path(\"user_memory.json\")\n",
    "    \n",
    "    try:\n",
    "        with open(memory_path, \"r\", encoding=\"utf-8\") as f:\n",
    "            memory = json.load(f)\n",
    "    except FileNotFoundError:\n",
    "        print(\"❌ No memory file found.\")\n",
    "        return\n",
    "\n",
    "    entries = memory.get(\"entries\", [])\n",
    "    if not entries:\n",
    "        print(\"🫥 Memory is empty.\")\n",
    "        return\n",
    "\n",
    "    emotion_map = defaultdict(list)\n",
    "\n",
    "    for entry in entries:\n",
    "        emotion = entry[\"emotion\"].lower()\n",
    "        symbol = entry[\"symbol\"]\n",
    "        emotion_map[emotion].append(symbol)\n",
    "\n",
    "    print(\"🌈 Emotion Clusters:\\n\")\n",
    "    for emotion, symbols in emotion_map.items():\n",
    "        unique_symbols = sorted(set(symbols))\n",
    "        print(f\"💬 {emotion.title()} — {len(symbols)} entries\")\n",
    "        print(f\"   Symbols: {' '.join(unique_symbols)}\\n\")\n",
    "\n",
    "# Try it\n",
    "emotion_cluster_report()\n"
   ]
  },
  {
   "cell_type": "code",
   "execution_count": 14,
   "id": "d39ab5f2-a0c8-41f0-926a-2c6d5998335f",
   "metadata": {},
   "outputs": [],
   "source": [
    "def trace_symbol(token):\n",
    "    memory_path = Path(\"user_memory.json\")\n",
    "\n",
    "    try:\n",
    "        with open(memory_path, \"r\", encoding=\"utf-8\") as f:\n",
    "            memory = json.load(f)\n",
    "    except FileNotFoundError:\n",
    "        print(\"❌ No memory file found.\")\n",
    "        return\n",
    "\n",
    "    entries = memory.get(\"entries\", [])\n",
    "    trace = [e for e in entries if e[\"symbol\"] == token]\n",
    "\n",
    "    if not trace:\n",
    "        print(f\"🫥 No memory found for symbol '{token}'.\")\n",
    "        return\n",
    "\n",
    "    print(f\"📜 Symbol Trace for '{token}':\\n\")\n",
    "    for entry in trace:\n",
    "        print(f\"🔹 {entry['timestamp']}\")\n",
    "        print(f\"   Emotion: {entry['emotion']}\")\n",
    "        print(f\"   Context: {entry['context']}\\n\")\n"
   ]
  },
  {
   "cell_type": "code",
   "execution_count": 15,
   "id": "7bcf76a7-b4e8-4ed2-9d8c-1f0383286dc7",
   "metadata": {},
   "outputs": [
    {
     "name": "stdout",
     "output_type": "stream",
     "text": [
      "📜 Symbol Trace for '🔥':\n",
      "\n",
      "🔹 2025-05-02T14:23:23.281735\n",
      "   Emotion: fear\n",
      "   Context: I keep returning to this\n",
      "\n"
     ]
    }
   ],
   "source": [
    "trace_symbol(\"🔥\")\n"
   ]
  },
  {
   "cell_type": "code",
   "execution_count": 16,
   "id": "22ce7b6b-85a0-420e-9d08-f69ff14b0bb6",
   "metadata": {},
   "outputs": [],
   "source": [
    "def detect_emergent_loops(min_emotions=2, min_occurrences=3):\n",
    "    memory_path = Path(\"user_memory.json\")\n",
    "\n",
    "    try:\n",
    "        with open(memory_path, \"r\", encoding=\"utf-8\") as f:\n",
    "            memory = json.load(f)\n",
    "    except FileNotFoundError:\n",
    "        print(\"❌ No memory file found.\")\n",
    "        return\n",
    "\n",
    "    entries = memory.get(\"entries\", [])\n",
    "    if not entries:\n",
    "        print(\"🫥 Memory is empty.\")\n",
    "        return\n",
    "\n",
    "    # Group all symbol uses and their emotions\n",
    "    symbol_data = defaultdict(lambda: {\"count\": 0, \"emotions\": set(), \"contexts\": []})\n",
    "\n",
    "    for entry in entries:\n",
    "        s = symbol_data[entry[\"symbol\"]]\n",
    "        s[\"count\"] += 1\n",
    "        s[\"emotions\"].add(entry[\"emotion\"].lower())\n",
    "        s[\"contexts\"].append(entry[\"context\"])\n",
    "\n",
    "    # Check each symbol for emergence conditions\n",
    "    print(\"🔮 Emergence Candidates:\\n\")\n",
    "    for symbol, data in symbol_data.items():\n",
    "        if data[\"count\"] >= min_occurrences and len(data[\"emotions\"]) >= min_emotions:\n",
    "            print(f\"⚠️ '{symbol}' has emerged:\")\n",
    "            print(f\"   Used {data['count']} times\")\n",
    "            print(f\"   Emotions: {', '.join(data['emotions'])}\")\n",
    "            print(f\"   Sample context: {data['contexts'][-1]}\")\n",
    "            print(\"   Suggest compression into meta-symbol? ΔΦ–0 trigger 💡\\n\")\n"
   ]
  },
  {
   "cell_type": "code",
   "execution_count": 17,
   "id": "fe85b367-5944-434b-92c0-20768dc0bf14",
   "metadata": {},
   "outputs": [
    {
     "name": "stdout",
     "output_type": "stream",
     "text": [
      "🔮 Emergence Candidates:\n",
      "\n"
     ]
    }
   ],
   "source": [
    "detect_emergent_loops()\n"
   ]
  },
  {
   "cell_type": "code",
   "execution_count": 18,
   "id": "8b0147b2-73e9-4d5c-a1ca-3b926ab94339",
   "metadata": {},
   "outputs": [
    {
     "name": "stdout",
     "output_type": "stream",
     "text": [
      "🧠 Saved 🔥 with emotion='anger' and context='I lashed out again.'\n",
      "🧠 Saved 🔥 with emotion='passion' and context='It drives me forward.'\n",
      "🧠 Saved 🔥 with emotion='fear' and context='This always burns me.'\n"
     ]
    }
   ],
   "source": [
    "# Save the same symbol with different emotions to trigger loop detection\n",
    "save_symbol_to_memory(\"🔥\", emotion=\"anger\", context=\"I lashed out again.\")\n",
    "save_symbol_to_memory(\"🔥\", emotion=\"passion\", context=\"It drives me forward.\")\n",
    "save_symbol_to_memory(\"🔥\", emotion=\"fear\", context=\"This always burns me.\")\n"
   ]
  },
  {
   "cell_type": "code",
   "execution_count": 19,
   "id": "33ee6632-d6d3-4cf0-8a31-ff68bc70f656",
   "metadata": {},
   "outputs": [
    {
     "name": "stdout",
     "output_type": "stream",
     "text": [
      "🔮 Emergence Candidates:\n",
      "\n",
      "⚠️ '🔥' has emerged:\n",
      "   Used 4 times\n",
      "   Emotions: fear, anger, passion\n",
      "   Sample context: This always burns me.\n",
      "   Suggest compression into meta-symbol? ΔΦ–0 trigger 💡\n",
      "\n"
     ]
    }
   ],
   "source": [
    "detect_emergent_loops()\n"
   ]
  },
  {
   "cell_type": "code",
   "execution_count": 20,
   "id": "2bb8a9fe-17cc-4b5c-824b-68afa9ce3078",
   "metadata": {},
   "outputs": [],
   "source": [
    "def bind_meta_symbol(original_token, new_token, name, summary):\n",
    "    meta_path = Path(\"meta_symbols.json\")\n",
    "\n",
    "    try:\n",
    "        with open(meta_path, \"r\", encoding=\"utf-8\") as f:\n",
    "            meta_symbols = json.load(f)\n",
    "    except FileNotFoundError:\n",
    "        meta_symbols = {}\n",
    "\n",
    "    timestamp = datetime.datetime.now().isoformat()\n",
    "\n",
    "    meta_symbols[new_token] = {\n",
    "        \"name\": name,\n",
    "        \"based_on\": original_token,\n",
    "        \"summary\": summary,\n",
    "        \"created\": timestamp\n",
    "    }\n",
    "\n",
    "    with open(meta_path, \"w\", encoding=\"utf-8\") as f:\n",
    "        json.dump(meta_symbols, f, indent=2)\n",
    "\n",
    "    print(f\"🌱 Created meta-symbol '{new_token}' from '{original_token}' → {name}\")\n"
   ]
  },
  {
   "cell_type": "code",
   "execution_count": 21,
   "id": "27bb0660-b65e-4b1e-819f-0a14a32b8587",
   "metadata": {},
   "outputs": [
    {
     "name": "stdout",
     "output_type": "stream",
     "text": [
      "🌱 Created meta-symbol '🔥⟳' from '🔥' → burn cycle\n"
     ]
    }
   ],
   "source": [
    "bind_meta_symbol(\n",
    "    original_token=\"🔥\",\n",
    "    new_token=\"🔥⟳\",\n",
    "    name=\"burn cycle\",\n",
    "    summary=\"A repeating transformation pattern triggered by strong emotion. Often destructive, but leads to growth.\"\n",
    ")\n"
   ]
  },
  {
   "cell_type": "code",
   "execution_count": null,
   "id": "f8395513-f2c9-4404-aee2-35f8cb0892a6",
   "metadata": {},
   "outputs": [],
   "source": []
  }
 ],
 "metadata": {
  "kernelspec": {
   "display_name": "Python 3 (ipykernel)",
   "language": "python",
   "name": "python3"
  },
  "language_info": {
   "codemirror_mode": {
    "name": "ipython",
    "version": 3
   },
   "file_extension": ".py",
   "mimetype": "text/x-python",
   "name": "python",
   "nbconvert_exporter": "python",
   "pygments_lexer": "ipython3",
   "version": "3.10.11"
  }
 },
 "nbformat": 4,
 "nbformat_minor": 5
}
